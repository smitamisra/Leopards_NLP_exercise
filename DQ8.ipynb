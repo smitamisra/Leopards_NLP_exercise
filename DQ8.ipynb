{
 "cells": [
  {
   "cell_type": "markdown",
   "metadata": {},
   "source": [
    "# Importing necessary libraries "
   ]
  },
  {
   "cell_type": "code",
   "execution_count": 69,
   "metadata": {},
   "outputs": [],
   "source": [
    "import pandas as pd\n",
    "from collections import Counter \n",
    "from bs4 import BeautifulSoup\n",
    "from nltk.tokenize import word_tokenize\n",
    "from nltk.tokenize import sent_tokenize\n",
    "from nltk.corpus import stopwords\n",
    "import re\n",
    "import requests"
   ]
  },
  {
   "cell_type": "code",
   "execution_count": 70,
   "metadata": {},
   "outputs": [],
   "source": [
    "import nltk"
   ]
  },
  {
   "cell_type": "code",
   "execution_count": 71,
   "metadata": {},
   "outputs": [],
   "source": [
    "#response = requests.get('http://google.com')"
   ]
  },
  {
   "cell_type": "code",
   "execution_count": 72,
   "metadata": {},
   "outputs": [],
   "source": [
    "#response.content"
   ]
  },
  {
   "cell_type": "code",
   "execution_count": 73,
   "metadata": {},
   "outputs": [],
   "source": [
    "rep_paragraph=pd.read_csv('data/share_repurchase_paragraphs.csv')"
   ]
  },
  {
   "cell_type": "code",
   "execution_count": 74,
   "metadata": {},
   "outputs": [],
   "source": [
    "rep_paragraph[\"word_token\"] = rep_paragraph.apply(lambda row: word_tokenize(row[\"paragraph_text\"]), axis=1)"
   ]
  },
  {
   "cell_type": "code",
   "execution_count": 75,
   "metadata": {},
   "outputs": [
    {
     "data": {
      "text/html": [
       "<div>\n",
       "<style scoped>\n",
       "    .dataframe tbody tr th:only-of-type {\n",
       "        vertical-align: middle;\n",
       "    }\n",
       "\n",
       "    .dataframe tbody tr th {\n",
       "        vertical-align: top;\n",
       "    }\n",
       "\n",
       "    .dataframe thead th {\n",
       "        text-align: right;\n",
       "    }\n",
       "</style>\n",
       "<table border=\"1\" class=\"dataframe\">\n",
       "  <thead>\n",
       "    <tr style=\"text-align: right;\">\n",
       "      <th></th>\n",
       "      <th>ticker</th>\n",
       "      <th>accession_number</th>\n",
       "      <th>data_key_friendly_name</th>\n",
       "      <th>text</th>\n",
       "      <th>data_value</th>\n",
       "      <th>reported_data_value</th>\n",
       "      <th>reported_units</th>\n",
       "      <th>paragraph_text</th>\n",
       "      <th>word_token</th>\n",
       "    </tr>\n",
       "  </thead>\n",
       "  <tbody>\n",
       "    <tr>\n",
       "      <th>0</th>\n",
       "      <td>A</td>\n",
       "      <td>0001090872-17-000018</td>\n",
       "      <td>Share Repurchase Authorization Date</td>\n",
       "      <td>May 28, 2015</td>\n",
       "      <td>20150528</td>\n",
       "      <td>20200000.00</td>\n",
       "      <td>ones</td>\n",
       "      <td>On May 28, 2015 we  announced that our board  ...</td>\n",
       "      <td>[On, May, 28, ,, 2015, we, announced, that, ou...</td>\n",
       "    </tr>\n",
       "    <tr>\n",
       "      <th>1</th>\n",
       "      <td>A</td>\n",
       "      <td>0001090872-17-000018</td>\n",
       "      <td>Share Repurchase Authorization</td>\n",
       "      <td>The 2015 share repurchase program authorizes t...</td>\n",
       "      <td>1140000000</td>\n",
       "      <td>1.14</td>\n",
       "      <td>billions</td>\n",
       "      <td>On May 28, 2015 we  announced that our board  ...</td>\n",
       "      <td>[On, May, 28, ,, 2015, we, announced, that, ou...</td>\n",
       "    </tr>\n",
       "    <tr>\n",
       "      <th>2</th>\n",
       "      <td>A</td>\n",
       "      <td>0001090872-17-000018</td>\n",
       "      <td>Share Repurchase Intention</td>\n",
       "      <td>remaining authorization to repurchase up to</td>\n",
       "      <td>610000000</td>\n",
       "      <td>610.00</td>\n",
       "      <td>millions</td>\n",
       "      <td>Table of Contents   2016, upon the completion ...</td>\n",
       "      <td>[Table, of, Contents, 2016, ,, upon, the, comp...</td>\n",
       "    </tr>\n",
       "    <tr>\n",
       "      <th>3</th>\n",
       "      <td>A</td>\n",
       "      <td>0001090872-17-000018</td>\n",
       "      <td>Share Repurchase Count</td>\n",
       "      <td>repurchased</td>\n",
       "      <td>4100000</td>\n",
       "      <td>4.10</td>\n",
       "      <td>millions</td>\n",
       "      <td>Table of Contents   2016, upon the completion ...</td>\n",
       "      <td>[Table, of, Contents, 2016, ,, upon, the, comp...</td>\n",
       "    </tr>\n",
       "    <tr>\n",
       "      <th>4</th>\n",
       "      <td>A</td>\n",
       "      <td>0001090872-17-000018</td>\n",
       "      <td>Amount Spent on Share Repurchases</td>\n",
       "      <td>repurchased</td>\n",
       "      <td>194000000</td>\n",
       "      <td>194.00</td>\n",
       "      <td>millions</td>\n",
       "      <td>Table of Contents   2016, upon the completion ...</td>\n",
       "      <td>[Table, of, Contents, 2016, ,, upon, the, comp...</td>\n",
       "    </tr>\n",
       "  </tbody>\n",
       "</table>\n",
       "</div>"
      ],
      "text/plain": [
       "  ticker      accession_number               data_key_friendly_name  \\\n",
       "0      A  0001090872-17-000018  Share Repurchase Authorization Date   \n",
       "1      A  0001090872-17-000018       Share Repurchase Authorization   \n",
       "2      A  0001090872-17-000018           Share Repurchase Intention   \n",
       "3      A  0001090872-17-000018               Share Repurchase Count   \n",
       "4      A  0001090872-17-000018    Amount Spent on Share Repurchases   \n",
       "\n",
       "                                                text  data_value  \\\n",
       "0                                       May 28, 2015    20150528   \n",
       "1  The 2015 share repurchase program authorizes t...  1140000000   \n",
       "2        remaining authorization to repurchase up to   610000000   \n",
       "3                                        repurchased     4100000   \n",
       "4                                        repurchased   194000000   \n",
       "\n",
       "   reported_data_value reported_units  \\\n",
       "0          20200000.00           ones   \n",
       "1                 1.14       billions   \n",
       "2               610.00       millions   \n",
       "3                 4.10       millions   \n",
       "4               194.00       millions   \n",
       "\n",
       "                                      paragraph_text  \\\n",
       "0  On May 28, 2015 we  announced that our board  ...   \n",
       "1  On May 28, 2015 we  announced that our board  ...   \n",
       "2  Table of Contents   2016, upon the completion ...   \n",
       "3  Table of Contents   2016, upon the completion ...   \n",
       "4  Table of Contents   2016, upon the completion ...   \n",
       "\n",
       "                                          word_token  \n",
       "0  [On, May, 28, ,, 2015, we, announced, that, ou...  \n",
       "1  [On, May, 28, ,, 2015, we, announced, that, ou...  \n",
       "2  [Table, of, Contents, 2016, ,, upon, the, comp...  \n",
       "3  [Table, of, Contents, 2016, ,, upon, the, comp...  \n",
       "4  [Table, of, Contents, 2016, ,, upon, the, comp...  "
      ]
     },
     "execution_count": 75,
     "metadata": {},
     "output_type": "execute_result"
    }
   ],
   "source": [
    " rep_paragraph.head()"
   ]
  },
  {
   "cell_type": "code",
   "execution_count": 76,
   "metadata": {},
   "outputs": [],
   "source": [
    "# rep_paragraph['paragraph_text']"
   ]
  },
  {
   "cell_type": "code",
   "execution_count": 77,
   "metadata": {},
   "outputs": [],
   "source": [
    "paragraph=rep_paragraph[['paragraph_text']]"
   ]
  },
  {
   "cell_type": "raw",
   "metadata": {},
   "source": [
    "for  column in enumerate(paragraph.columns):\n",
    "    tokens = [w for w in word_tokenize(column.lower())\n",
    "    if w.isalpha()]\n"
   ]
  },
  {
   "cell_type": "raw",
   "metadata": {},
   "source": [
    "tokens = [w for w in word_tokenize(text.lower())\n",
    "if w.isalpha()]\n",
    "\n",
    "no_stops = [t for t in tokens\n",
    "if t not in stopwords.words('english')]"
   ]
  },
  {
   "cell_type": "markdown",
   "metadata": {},
   "source": [
    "# Parsing the HTML content"
   ]
  },
  {
   "cell_type": "raw",
   "metadata": {},
   "source": [
    "We open and read the html file from the local directory \n",
    "\n",
    "We create a BeautifulSoup object by passing two arguments:\n",
    "\n",
    "r : It is the raw HTML content.\n",
    "html5lib : Specifying the HTML parser we want to use."
   ]
  },
  {
   "cell_type": "code",
   "execution_count": 78,
   "metadata": {},
   "outputs": [],
   "source": [
    "f = open('data/nc_training_filings/0000002969-17-000039.html',  'r')\n",
    "r = f.read()\n",
    "soup = BeautifulSoup(r, 'html.parser').get_text()\n",
    "\n",
    "#raw=nltk.clean_html(soup)\n",
    "# print(raw)\n",
    "#print(soup.prettify()) # Now soup.prettify() is printed, it gives the visual representation of the parse tree created from the raw HTML content."
   ]
  },
  {
   "cell_type": "code",
   "execution_count": 106,
   "metadata": {},
   "outputs": [
    {
     "name": "stdout",
     "output_type": "stream",
     "text": [
      "['repurchase of up', 'repurchase shares pursuant to Rules 10b5-1 and 10b-18 under the', 'repurchase agreements established with several brokers.', 'repurchase authorization remained. Additional purchases will be', 'repurchase of up', 'repurchase authorization remains.', 'repurchase of up', 'repurchase agreements established with several brokers. We did not purchase any of our outstanding shares', 'repurchase authorization remains.']\n"
     ]
    }
   ],
   "source": [
    "# re.findall(r\"author.* & remaining.* & repurchase.*\",soup,flags=re.IGNORECASE | re.DOTALL)\n",
    "#re.findall(r\"authorized.* & remaining.* | repurchase.*\",soup,flags=re.IGNORECASE | re.DOTALL)\n",
    "#re.findall(r\"repurchase.*|.*authorization remained\",soup,flags=re.IGNORECASE |re.MULTILINE|re.DOTALL)\n",
    "#repurchase.*|.*authorization remained|d+\n",
    "print(re.findall(r\"(repurchase.+)\",soup,flags=re.IGNORECASE|re.MULTILINE))"
   ]
  },
  {
   "cell_type": "code",
   "execution_count": 80,
   "metadata": {},
   "outputs": [],
   "source": [
    "#main_content = soup.find('div', attrs = {'class': 'c76'})"
   ]
  },
  {
   "cell_type": "code",
   "execution_count": 81,
   "metadata": {},
   "outputs": [
    {
     "ename": "NameError",
     "evalue": "name 'main_content' is not defined",
     "output_type": "error",
     "traceback": [
      "\u001b[1;31m---------------------------------------------------------------------------\u001b[0m",
      "\u001b[1;31mNameError\u001b[0m                                 Traceback (most recent call last)",
      "\u001b[1;32m<ipython-input-81-87ab2694a231>\u001b[0m in \u001b[0;36m<module>\u001b[1;34m()\u001b[0m\n\u001b[1;32m----> 1\u001b[1;33m \u001b[0mmain_content\u001b[0m\u001b[1;33m\u001b[0m\u001b[0m\n\u001b[0m",
      "\u001b[1;31mNameError\u001b[0m: name 'main_content' is not defined"
     ]
    }
   ],
   "source": [
    "main_content"
   ]
  },
  {
   "cell_type": "code",
   "execution_count": null,
   "metadata": {},
   "outputs": [],
   "source": [
    "reduced = main_content.find('div', attrs = {'class': 'Purchases of Equity Securities by the Issuer'})"
   ]
  },
  {
   "cell_type": "code",
   "execution_count": null,
   "metadata": {},
   "outputs": [],
   "source": [
    "reduced"
   ]
  },
  {
   "cell_type": "code",
   "execution_count": null,
   "metadata": {},
   "outputs": [],
   "source": [
    "#\n",
    "\n",
    "sentence=sent_tokenize(soup)"
   ]
  },
  {
   "cell_type": "code",
   "execution_count": null,
   "metadata": {},
   "outputs": [],
   "source": [
    "sentence"
   ]
  },
  {
   "cell_type": "code",
   "execution_count": null,
   "metadata": {},
   "outputs": [],
   "source": [
    "# Input.\n",
    "value = \"repurchase\"\n",
    "\n",
    "m = re.findall(value, soup).str()\n",
    "if m:\n",
    "    # This is reached.\n",
    "    print(m)\n",
    "\n"
   ]
  },
  {
   "cell_type": "code",
   "execution_count": null,
   "metadata": {},
   "outputs": [],
   "source": [
    "re.search('repurchase', soup, re.MULTILINE)"
   ]
  },
  {
   "cell_type": "markdown",
   "metadata": {},
   "source": [
    "# Searching and navigating through the parse tree"
   ]
  },
  {
   "cell_type": "code",
   "execution_count": null,
   "metadata": {},
   "outputs": [],
   "source": [
    "Now, we would like to extract some useful data from the HTML content. \n",
    "The soup object contains all the data in nested structure which could be programmatically extracted. \n",
    "we would like to create a program to save those quotes (and all relevant information about them)."
   ]
  },
  {
   "cell_type": "code",
   "execution_count": null,
   "metadata": {},
   "outputs": [],
   "source": [
    "repurchase=[]  # a list to store quotes\n",
    " \n",
    "table = soup.find('div', attrs = {'id':'container'})\n",
    " \n",
    "for row in table.findAll('div', attrs = {'class':'quote'}):\n",
    "    quote = {}\n",
    "    quote['theme'] = row.h5.text\n",
    "    quote['url'] = row.a['href']\n",
    "    quote['img'] = row.img['src']\n",
    "    quote['lines'] = row.h6.text\n",
    "    quote['author'] = row.p.text\n",
    "    quotes.append(quote)\n",
    " \n",
    "filename = 'repurchase.csv'\n",
    "with open(filename, 'wb') as f:\n",
    "    w = csv.DictWriter(f,['theme','url','img','lines','author'])\n",
    "    w.writeheader()\n",
    "    for quote in quotes:\n",
    "        w.writerow(quote)"
   ]
  },
  {
   "cell_type": "raw",
   "metadata": {},
   "source": [
    "Before moving on, we recommend you to go through the HTML content of the webpage which we printed using soup.prettify() method and try to find a pattern or a way to navigate to the quotes.\n",
    "\n",
    "It is noticed that all the quotes are inside a div container whose id is container. So, we find that div element (termed as table in above code) using find() method :\n",
    "table = soup.find('div', attrs = {'id':'container'})\n",
    "The first argument is the HTML tag you want to search and second argument is a dictionary type element to specify the additional attributes associated with that tag. find() method returns the first matching element. You can try to print table.prettify() to get a sense of what this piece of code does.\n",
    "\n",
    "Now, in the table element, one can notice that each quote is inside a div container whose class is quote. So, we iterate through each div container whose class is quote.\n",
    "Here, we use findAll() method which is similar to find method in terms of arguments but it returns a list of all matching elements. Each quote is now iterated using a variable called row.\n",
    "Here is one sample row HTML content for better understanding"
   ]
  },
  {
   "cell_type": "code",
   "execution_count": null,
   "metadata": {},
   "outputs": [],
   "source": []
  },
  {
   "cell_type": "code",
   "execution_count": null,
   "metadata": {},
   "outputs": [],
   "source": []
  }
 ],
 "metadata": {
  "kernelspec": {
   "display_name": "Python 3",
   "language": "python",
   "name": "python3"
  },
  "language_info": {
   "codemirror_mode": {
    "name": "ipython",
    "version": 3
   },
   "file_extension": ".py",
   "mimetype": "text/x-python",
   "name": "python",
   "nbconvert_exporter": "python",
   "pygments_lexer": "ipython3",
   "version": "3.6.4"
  }
 },
 "nbformat": 4,
 "nbformat_minor": 2
}
