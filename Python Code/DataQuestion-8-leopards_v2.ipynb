{
 "cells": [
  {
   "cell_type": "markdown",
   "metadata": {},
   "source": [
    "#### Import Libraries"
   ]
  },
  {
   "cell_type": "code",
   "execution_count": 114,
   "metadata": {},
   "outputs": [
    {
     "name": "stdout",
     "output_type": "stream",
     "text": [
      "[nltk_data] Downloading package punkt to\n",
      "[nltk_data]     C:\\Users\\kenne\\AppData\\Roaming\\nltk_data...\n",
      "[nltk_data]   Unzipping tokenizers\\punkt.zip.\n"
     ]
    },
    {
     "data": {
      "text/plain": [
       "True"
      ]
     },
     "execution_count": 114,
     "metadata": {},
     "output_type": "execute_result"
    }
   ],
   "source": [
    "from bs4 import BeautifulSoup as BS\n",
    "from pandas import ExcelWriter\n",
    "import re as re\n",
    "import nltk\n",
    "import urllib.request\n",
    "import pandas as pd\n",
    "import os\n",
    "#nltk.download('punkt')"
   ]
  },
  {
   "cell_type": "markdown",
   "metadata": {},
   "source": [
    "#### Import share_repurchase_paragraphs csv file"
   ]
  },
  {
   "cell_type": "code",
   "execution_count": 5,
   "metadata": {},
   "outputs": [],
   "source": [
    "share_repurchase_paragraphs = pd.read_csv(\"Data\\share_repurchase_paragraphs.csv\")\n",
    "#share_repurchase_paragraphs['paragraph_text']"
   ]
  },
  {
   "cell_type": "markdown",
   "metadata": {},
   "source": [
    "#### Create Soup with HTML training files "
   ]
  },
  {
   "cell_type": "code",
   "execution_count": 24,
   "metadata": {},
   "outputs": [],
   "source": [
    "directory = 'Data/nc_training_filings'\n",
    "for filename in os.listdir(directory):\n",
    "    filename = str(filename)\n",
    "    request_training_filings = urllib.request.Request('file:///C:/Users/kenne/GIT/data-question-8-leopards/Data/nc_training_filings/'+filename)\n",
    "    result_training_filings = urllib.request.urlopen(request_training_filings)\n",
    "    resulttext_training_filings = result_training_filings.read()\n",
    "    #print(filename)"
   ]
  },
  {
   "cell_type": "code",
   "execution_count": 33,
   "metadata": {},
   "outputs": [],
   "source": [
    "soup_training_filings = BS(resulttext_training_filings, 'html.parser')\n",
    "soup_training_filings.prettify;\n",
    "soup_training_filings_text = soup_training_filings.get_text()"
   ]
  },
  {
   "cell_type": "code",
   "execution_count": 27,
   "metadata": {},
   "outputs": [],
   "source": [
    "soup_training_filings_text;"
   ]
  },
  {
   "cell_type": "code",
   "execution_count": 53,
   "metadata": {},
   "outputs": [],
   "source": [
    "res = re.search('ITEM 8.*PART IV', soup_training_filings_text, flags=re.DOTALL)\n",
    "#print (res.group())"
   ]
  },
  {
   "cell_type": "markdown",
   "metadata": {},
   "source": [
    "#### Pull sample of HTML training files into data frame"
   ]
  },
  {
   "cell_type": "code",
   "execution_count": 70,
   "metadata": {},
   "outputs": [],
   "source": [
    "d_training = []\n",
    "directory = 'Data/nc_training_filings'\n",
    "for filename in os.listdir(directory)[:3]:\n",
    "    filename = str(filename)\n",
    "    ascension_number = filename[0:19]\n",
    "    request_training_filings = urllib.request.Request('file:///C:/Users/kenne/GIT/data-question-8-leopards/Data/nc_training_filings/'+filename)\n",
    "    result_training_filings = urllib.request.urlopen(request_training_filings)\n",
    "    resulttext_training_filings = result_training_filings.read()\n",
    "    res = re.search('ITEM 8.*PART IV', soup_training_filings_text, flags=re.DOTALL)\n",
    "    d_training.append({'Text': res.group(),'ascension_number': ascension_number})\n"
   ]
  },
  {
   "cell_type": "code",
   "execution_count": 79,
   "metadata": {},
   "outputs": [
    {
     "data": {
      "text/html": [
       "<div>\n",
       "<style scoped>\n",
       "    .dataframe tbody tr th:only-of-type {\n",
       "        vertical-align: middle;\n",
       "    }\n",
       "\n",
       "    .dataframe tbody tr th {\n",
       "        vertical-align: top;\n",
       "    }\n",
       "\n",
       "    .dataframe thead th {\n",
       "        text-align: right;\n",
       "    }\n",
       "</style>\n",
       "<table border=\"1\" class=\"dataframe\">\n",
       "  <thead>\n",
       "    <tr style=\"text-align: right;\">\n",
       "      <th></th>\n",
       "      <th>Text</th>\n",
       "      <th>ascension_number</th>\n",
       "    </tr>\n",
       "  </thead>\n",
       "  <tbody>\n",
       "    <tr>\n",
       "      <th>0</th>\n",
       "      <td>ITEM 8. FINANCIAL STATEMENTS AND SUPPLEMENTARY...</td>\n",
       "      <td>0000002969-17-00003</td>\n",
       "    </tr>\n",
       "    <tr>\n",
       "      <th>1</th>\n",
       "      <td>ITEM 8. FINANCIAL STATEMENTS AND SUPPLEMENTARY...</td>\n",
       "      <td>0000004127-17-00003</td>\n",
       "    </tr>\n",
       "    <tr>\n",
       "      <th>2</th>\n",
       "      <td>ITEM 8. FINANCIAL STATEMENTS AND SUPPLEMENTARY...</td>\n",
       "      <td>0000004281-18-00004</td>\n",
       "    </tr>\n",
       "  </tbody>\n",
       "</table>\n",
       "</div>"
      ],
      "text/plain": [
       "                                                Text     ascension_number\n",
       "0  ITEM 8. FINANCIAL STATEMENTS AND SUPPLEMENTARY...  0000002969-17-00003\n",
       "1  ITEM 8. FINANCIAL STATEMENTS AND SUPPLEMENTARY...  0000004127-17-00003\n",
       "2  ITEM 8. FINANCIAL STATEMENTS AND SUPPLEMENTARY...  0000004281-18-00004"
      ]
     },
     "execution_count": 79,
     "metadata": {},
     "output_type": "execute_result"
    }
   ],
   "source": [
    "df_training = pd.DataFrame(d_training)\n",
    "df_training['Text'].astype(str);\n",
    "df_training['ascension_number'].astype(str);\n",
    "df_training "
   ]
  },
  {
   "cell_type": "markdown",
   "metadata": {},
   "source": [
    "#### Begin text analysis for relevant phrases"
   ]
  },
  {
   "cell_type": "code",
   "execution_count": 133,
   "metadata": {},
   "outputs": [
    {
     "name": "stdout",
     "output_type": "stream",
     "text": [
      "{'Share', 'Repurchase', 'Utilization', 'Repurchases', 'Authorization', 'Unknown', 'Intention', 'Spent', 'Amount', 'Count'}\n"
     ]
    }
   ],
   "source": [
    "phrases = 'Share Repurchase Authorization Share Repurchase Authorization Share Repurchase Intention Share Repurchase Count Amount Spent Share Repurchases Share Repurchase Utilization Unknown Share Repurchase'\n",
    "tokens = nltk.word_tokenize(phrases)\n",
    "tokens = set(tokens)\n",
    "print(tokens)\n"
   ]
  },
  {
   "cell_type": "code",
   "execution_count": 143,
   "metadata": {},
   "outputs": [],
   "source": [
    "#res = re.search(tokens, df_training['Text'].iloc[0], flags=re.DOTALL)\n",
    "for text in tokens:\n",
    "    try:\n",
    "        res = re.search(str(text), df_training['Text'].iloc[0], flags=re.DOTALL)\n",
    "        break \n",
    "    except ValueError:\n",
    "            print('none')\n"
   ]
  },
  {
   "cell_type": "code",
   "execution_count": 144,
   "metadata": {},
   "outputs": [
    {
     "name": "stdout",
     "output_type": "stream",
     "text": [
      "Share\n"
     ]
    }
   ],
   "source": [
    "print(res.group())"
   ]
  },
  {
   "cell_type": "markdown",
   "metadata": {},
   "source": [
    "#### Create soup with HTML validation files "
   ]
  },
  {
   "cell_type": "code",
   "execution_count": 62,
   "metadata": {},
   "outputs": [],
   "source": [
    "directory = 'Data/nc_validation_filings'\n",
    "for filename in os.listdir(directory):\n",
    "    filename = str(filename)\n",
    "    request_validation_filings = urllib.request.Request('file:///C:/Users/kenne/GIT/data-question-8-leopards/Data/nc_validation_filings/'+filename)\n",
    "    result_validation_filings = urllib.request.urlopen(request_validation_filings)\n",
    "    resulttext_validation_filings = result_validation_filings.read()\n",
    "    #print(filename)"
   ]
  },
  {
   "cell_type": "code",
   "execution_count": 67,
   "metadata": {},
   "outputs": [],
   "source": [
    "soup_validation_filings = BS(resulttext_validation_filings, 'html.parser')\n",
    "soup_validation_filings.prettify;\n",
    "soup_validation_filings_text = soup_validation_filings.get_text()"
   ]
  },
  {
   "cell_type": "code",
   "execution_count": 69,
   "metadata": {},
   "outputs": [],
   "source": [
    "soup_validation_filings_text;"
   ]
  },
  {
   "cell_type": "code",
   "execution_count": 68,
   "metadata": {},
   "outputs": [],
   "source": [
    "res = re.search('ITEM 8.*PART IV', soup_validation_filings_text, flags=re.DOTALL)\n",
    "#print (res.group())"
   ]
  },
  {
   "cell_type": "markdown",
   "metadata": {},
   "source": [
    "#### Pull sample of HTML validation files into data frame"
   ]
  },
  {
   "cell_type": "code",
   "execution_count": 73,
   "metadata": {},
   "outputs": [],
   "source": [
    "d_validation = []\n",
    "directory = 'Data/nc_validation_filings'\n",
    "for filename in os.listdir(directory)[:3]:\n",
    "    filename = str(filename)\n",
    "    ascension_number = filename[0:19]\n",
    "    request_validation_filings = urllib.request.Request('file:///C:/Users/kenne/GIT/data-question-8-leopards/Data/nc_training_filings/'+filename)\n",
    "    result_validation_filings = urllib.request.urlopen(request_training_filings)\n",
    "    resulttext_validation_filings = result_training_filings.read()\n",
    "    res = re.search('ITEM 8.*PART IV', soup_validation_filings_text, flags=re.DOTALL)\n",
    "    d_validation.append({'Text': res.group(),'ascension_number': ascension_number})\n"
   ]
  },
  {
   "cell_type": "code",
   "execution_count": 74,
   "metadata": {},
   "outputs": [
    {
     "data": {
      "text/html": [
       "<div>\n",
       "<style scoped>\n",
       "    .dataframe tbody tr th:only-of-type {\n",
       "        vertical-align: middle;\n",
       "    }\n",
       "\n",
       "    .dataframe tbody tr th {\n",
       "        vertical-align: top;\n",
       "    }\n",
       "\n",
       "    .dataframe thead th {\n",
       "        text-align: right;\n",
       "    }\n",
       "</style>\n",
       "<table border=\"1\" class=\"dataframe\">\n",
       "  <thead>\n",
       "    <tr style=\"text-align: right;\">\n",
       "      <th></th>\n",
       "      <th>Text</th>\n",
       "      <th>ascension_number</th>\n",
       "    </tr>\n",
       "  </thead>\n",
       "  <tbody>\n",
       "    <tr>\n",
       "      <th>0</th>\n",
       "      <td>ITEM 8. FINANCIAL STATEMENTS AND SUPPLEMENTARY...</td>\n",
       "      <td>0000007332-18-00001</td>\n",
       "    </tr>\n",
       "    <tr>\n",
       "      <th>1</th>\n",
       "      <td>ITEM 8. FINANCIAL STATEMENTS AND SUPPLEMENTARY...</td>\n",
       "      <td>0000020520-18-00000</td>\n",
       "    </tr>\n",
       "    <tr>\n",
       "      <th>2</th>\n",
       "      <td>ITEM 8. FINANCIAL STATEMENTS AND SUPPLEMENTARY...</td>\n",
       "      <td>0000028917-18-00015</td>\n",
       "    </tr>\n",
       "  </tbody>\n",
       "</table>\n",
       "</div>"
      ],
      "text/plain": [
       "                                                Text     ascension_number\n",
       "0  ITEM 8. FINANCIAL STATEMENTS AND SUPPLEMENTARY...  0000007332-18-00001\n",
       "1  ITEM 8. FINANCIAL STATEMENTS AND SUPPLEMENTARY...  0000020520-18-00000\n",
       "2  ITEM 8. FINANCIAL STATEMENTS AND SUPPLEMENTARY...  0000028917-18-00015"
      ]
     },
     "execution_count": 74,
     "metadata": {},
     "output_type": "execute_result"
    }
   ],
   "source": [
    "d_validation = pd.DataFrame(d_validation)\n",
    "d_validation['Text'].astype(str);\n",
    "d_validation['ascension_number'].astype(str);\n",
    "d_validation "
   ]
  },
  {
   "cell_type": "markdown",
   "metadata": {},
   "source": [
    "#### Export training data results to Excel File "
   ]
  },
  {
   "cell_type": "code",
   "execution_count": 501,
   "metadata": {},
   "outputs": [],
   "source": [
    "writer = pd.ExcelWriter('test.xlsx', engine='xlsxwriter')\n",
    "df_training.to_excel(writer, sheet_name='Sheet1')\n",
    "writer.save()"
   ]
  }
 ],
 "metadata": {
  "kernelspec": {
   "display_name": "Python 3",
   "language": "python",
   "name": "python3"
  },
  "language_info": {
   "codemirror_mode": {
    "name": "ipython",
    "version": 3
   },
   "file_extension": ".py",
   "mimetype": "text/x-python",
   "name": "python",
   "nbconvert_exporter": "python",
   "pygments_lexer": "ipython3",
   "version": "3.6.4"
  }
 },
 "nbformat": 4,
 "nbformat_minor": 2
}
