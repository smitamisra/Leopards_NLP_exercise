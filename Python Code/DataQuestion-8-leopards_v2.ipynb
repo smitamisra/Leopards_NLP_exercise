{
 "cells": [
  {
   "cell_type": "markdown",
   "metadata": {},
   "source": [
    "#### Import Libraries"
   ]
  },
  {
   "cell_type": "code",
   "execution_count": 72,
   "metadata": {
    "scrolled": false
   },
   "outputs": [],
   "source": [
    "from bs4 import BeautifulSoup as BS\n",
    "from pandas import ExcelWriter\n",
    "import re as re\n",
    "import nltk\n",
    "import urllib.request\n",
    "import pandas as pd\n",
    "import os\n",
    "#nltk.download('punkt')"
   ]
  },
  {
   "cell_type": "markdown",
   "metadata": {},
   "source": [
    "#### Import share_repurchase_paragraphs csv file"
   ]
  },
  {
   "cell_type": "code",
   "execution_count": 73,
   "metadata": {
    "scrolled": false
   },
   "outputs": [],
   "source": [
    "share_repurchase_paragraphs = pd.read_csv(\"Data\\share_repurchase_paragraphs.csv\")\n",
    "#share_repurchase_paragraphs['paragraph_text']"
   ]
  },
  {
   "cell_type": "markdown",
   "metadata": {},
   "source": [
    "#### Create Soup with HTML training files "
   ]
  },
  {
   "cell_type": "code",
   "execution_count": 201,
   "metadata": {
    "scrolled": false
   },
   "outputs": [],
   "source": [
    "directory = 'Data/nc_training_filings'\n",
    "for filename in os.listdir(directory):\n",
    "    filename = str(filename)\n",
    "    request_training_filings = urllib.request.Request('file:///C:/Users/kenne/GIT/data-question-8-leopards/Data/nc_training_filings/'+filename)\n",
    "    result_training_filings = urllib.request.urlopen(request_training_filings)\n",
    "    resulttext_training_filings = result_training_filings.read()\n",
    "    #print(filename)"
   ]
  },
  {
   "cell_type": "code",
   "execution_count": 202,
   "metadata": {
    "scrolled": false
   },
   "outputs": [],
   "source": [
    "soup_training_filings = BS(resulttext_training_filings, 'html.parser')\n",
    "soup_training_filings.prettify;\n",
    "soup_training_filings_text = soup_training_filings.get_text()"
   ]
  },
  {
   "cell_type": "code",
   "execution_count": 203,
   "metadata": {
    "scrolled": false
   },
   "outputs": [],
   "source": [
    "soup_training_filings_text;"
   ]
  },
  {
   "cell_type": "code",
   "execution_count": 204,
   "metadata": {
    "scrolled": true
   },
   "outputs": [],
   "source": [
    "#res = re.search('ITEM 8.*PART IV', soup_training_filings_text, flags=re.DOTALL)\n",
    "#print (res.group())"
   ]
  },
  {
   "cell_type": "markdown",
   "metadata": {},
   "source": [
    "#### Pull sample of HTML training files into data frame"
   ]
  },
  {
   "cell_type": "code",
   "execution_count": 205,
   "metadata": {
    "scrolled": false
   },
   "outputs": [],
   "source": [
    "d_training = []\n",
    "directory = 'Data/nc_training_filings'\n",
    "for filename in os.listdir(directory)[:3]:\n",
    "    filename = str(filename)\n",
    "    ascension_number = filename[0:19]\n",
    "    request_training_filings = urllib.request.Request('file:///C:/Users/kenne/GIT/data-question-8-leopards/Data/nc_training_filings/'+filename)\n",
    "    result_training_filings = urllib.request.urlopen(request_training_filings)\n",
    "    resulttext_training_filings = result_training_filings.read()\n",
    "    res = re.search('ITEM 8.*PART IV', soup_training_filings_text, flags=re.DOTALL)\n",
    "    d_training.append({'Text': res.group(),'ascension_number': ascension_number})\n"
   ]
  },
  {
   "cell_type": "code",
   "execution_count": 206,
   "metadata": {
    "scrolled": false
   },
   "outputs": [
    {
     "data": {
      "text/html": [
       "<div>\n",
       "<style scoped>\n",
       "    .dataframe tbody tr th:only-of-type {\n",
       "        vertical-align: middle;\n",
       "    }\n",
       "\n",
       "    .dataframe tbody tr th {\n",
       "        vertical-align: top;\n",
       "    }\n",
       "\n",
       "    .dataframe thead th {\n",
       "        text-align: right;\n",
       "    }\n",
       "</style>\n",
       "<table border=\"1\" class=\"dataframe\">\n",
       "  <thead>\n",
       "    <tr style=\"text-align: right;\">\n",
       "      <th></th>\n",
       "      <th>Text</th>\n",
       "      <th>ascension_number</th>\n",
       "    </tr>\n",
       "  </thead>\n",
       "  <tbody>\n",
       "    <tr>\n",
       "      <th>0</th>\n",
       "      <td>ITEM 8. FINANCIAL STATEMENTS AND SUPPLEMENTARY...</td>\n",
       "      <td>0000002969-17-00003</td>\n",
       "    </tr>\n",
       "    <tr>\n",
       "      <th>1</th>\n",
       "      <td>ITEM 8. FINANCIAL STATEMENTS AND SUPPLEMENTARY...</td>\n",
       "      <td>0000004127-17-00003</td>\n",
       "    </tr>\n",
       "    <tr>\n",
       "      <th>2</th>\n",
       "      <td>ITEM 8. FINANCIAL STATEMENTS AND SUPPLEMENTARY...</td>\n",
       "      <td>0000004281-18-00004</td>\n",
       "    </tr>\n",
       "  </tbody>\n",
       "</table>\n",
       "</div>"
      ],
      "text/plain": [
       "                                                Text     ascension_number\n",
       "0  ITEM 8. FINANCIAL STATEMENTS AND SUPPLEMENTARY...  0000002969-17-00003\n",
       "1  ITEM 8. FINANCIAL STATEMENTS AND SUPPLEMENTARY...  0000004127-17-00003\n",
       "2  ITEM 8. FINANCIAL STATEMENTS AND SUPPLEMENTARY...  0000004281-18-00004"
      ]
     },
     "execution_count": 206,
     "metadata": {},
     "output_type": "execute_result"
    }
   ],
   "source": [
    "df_training = pd.DataFrame(d_training)\n",
    "df_training['Text'].astype(str);\n",
    "df_training['ascension_number'].astype(str);\n",
    "df_training "
   ]
  },
  {
   "cell_type": "markdown",
   "metadata": {},
   "source": [
    "#### Begin text analysis for relevant phrases"
   ]
  },
  {
   "cell_type": "code",
   "execution_count": 197,
   "metadata": {
    "scrolled": false
   },
   "outputs": [
    {
     "name": "stdout",
     "output_type": "stream",
     "text": [
      "{'Amount', 'Authorization', 'Repurchase', 'Spent', 'Count', 'Share', 'Utilization', 'repurchase', 'Repurchases', 'Intention', 'Unknown'}\n"
     ]
    }
   ],
   "source": [
    "phrases = 'repurchase Share Repurchase Authorization Share Repurchase Authorization Share Repurchase Intention Share Repurchase Count Amount Spent Share Repurchases Share Repurchase Utilization Unknown Share Repurchase'\n",
    "tokens = nltk.word_tokenize(phrases)\n",
    "#tokens_lower = [token.lower() for token in tokens]\n",
    "#tokens = set(tokens).union(set(tokens_lower))\n",
    "tokens = set(tokens)\n",
    "print(tokens)"
   ]
  },
  {
   "cell_type": "code",
   "execution_count": 198,
   "metadata": {
    "scrolled": false
   },
   "outputs": [],
   "source": [
    "#temp1 = nltk.sent_tokenize(df_training['Text'].iloc[0]) "
   ]
  },
  {
   "cell_type": "code",
   "execution_count": 199,
   "metadata": {
    "scrolled": true
   },
   "outputs": [
    {
     "name": "stderr",
     "output_type": "stream",
     "text": [
      "C:\\ProgramData\\Anaconda3\\lib\\site-packages\\ipykernel_launcher.py:12: FutureWarning: set_value is deprecated and will be removed in a future release. Please use .at[] or .iat[] accessors instead\n",
      "  if sys.path[0] == '':\n"
     ]
    }
   ],
   "source": [
    "l1 = [0,1,2]\n",
    "l2 = [0,1,2]\n",
    "\n",
    "for k in l2:\n",
    "    for text in tokens:\n",
    "        r = re.compile(\".*\"+text+\"\", re.IGNORECASE)\n",
    "        #print(r)\n",
    "        newlist = list(filter(r.match, nltk.sent_tokenize(df_training['Text'].iloc[k])))\n",
    "        newlist = [w.replace('\\n', '') for w in newlist]\n",
    "        newlist = '-'.join(newlist)\n",
    "        for l in l1:\n",
    "                df_training.set_value(l, ''+text+'', newlist)\n",
    "               \n",
    "        \n",
    "        \n",
    "       \n",
    "        #df_training.loc[0][''+text+''] = newlist #filter(r.match, nltk.sent_tokenize(newlist))\n",
    "        \n",
    "        #n = n + 1\n",
    "        #m = m + 1\n",
    "\n",
    "        #print(newlist)"
   ]
  },
  {
   "cell_type": "code",
   "execution_count": 200,
   "metadata": {
    "scrolled": true
   },
   "outputs": [
    {
     "data": {
      "text/html": [
       "<div>\n",
       "<style scoped>\n",
       "    .dataframe tbody tr th:only-of-type {\n",
       "        vertical-align: middle;\n",
       "    }\n",
       "\n",
       "    .dataframe tbody tr th {\n",
       "        vertical-align: top;\n",
       "    }\n",
       "\n",
       "    .dataframe thead th {\n",
       "        text-align: right;\n",
       "    }\n",
       "</style>\n",
       "<table border=\"1\" class=\"dataframe\">\n",
       "  <thead>\n",
       "    <tr style=\"text-align: right;\">\n",
       "      <th></th>\n",
       "      <th>Text</th>\n",
       "      <th>ascension_number</th>\n",
       "      <th>Amount</th>\n",
       "      <th>Authorization</th>\n",
       "      <th>Repurchase</th>\n",
       "      <th>Spent</th>\n",
       "      <th>Count</th>\n",
       "      <th>Share</th>\n",
       "      <th>Utilization</th>\n",
       "      <th>repurchase</th>\n",
       "      <th>Repurchases</th>\n",
       "      <th>Intention</th>\n",
       "      <th>Unknown</th>\n",
       "    </tr>\n",
       "  </thead>\n",
       "  <tbody>\n",
       "    <tr>\n",
       "      <th>0</th>\n",
       "      <td>ITEM 8. FINANCIAL STATEMENTS AND SUPPLEMENTARY...</td>\n",
       "      <td>0000002969-17-00003</td>\n",
       "      <td>These costs amounted to $501million, $352 mill...</td>\n",
       "      <td>The $3 billion repurchase authorization is the...</td>\n",
       "      <td>The above transactions resulted in total repur...</td>\n",
       "      <td></td>\n",
       "      <td>KPMG LLP, the Company's independent registered...</td>\n",
       "      <td>Prior to the Transactions, shares of Baker Hug...</td>\n",
       "      <td>We gain insight into expected future utilizati...</td>\n",
       "      <td>The above transactions resulted in total repur...</td>\n",
       "      <td></td>\n",
       "      <td></td>\n",
       "      <td></td>\n",
       "    </tr>\n",
       "    <tr>\n",
       "      <th>1</th>\n",
       "      <td>ITEM 8. FINANCIAL STATEMENTS AND SUPPLEMENTARY...</td>\n",
       "      <td>0000004127-17-00003</td>\n",
       "      <td>These costs amounted to $501million, $352 mill...</td>\n",
       "      <td>The $3 billion repurchase authorization is the...</td>\n",
       "      <td>The above transactions resulted in total repur...</td>\n",
       "      <td></td>\n",
       "      <td>KPMG LLP, the Company's independent registered...</td>\n",
       "      <td>Prior to the Transactions, shares of Baker Hug...</td>\n",
       "      <td>We gain insight into expected future utilizati...</td>\n",
       "      <td>The above transactions resulted in total repur...</td>\n",
       "      <td></td>\n",
       "      <td></td>\n",
       "      <td></td>\n",
       "    </tr>\n",
       "    <tr>\n",
       "      <th>2</th>\n",
       "      <td>ITEM 8. FINANCIAL STATEMENTS AND SUPPLEMENTARY...</td>\n",
       "      <td>0000004281-18-00004</td>\n",
       "      <td>These costs amounted to $501million, $352 mill...</td>\n",
       "      <td>The $3 billion repurchase authorization is the...</td>\n",
       "      <td>The above transactions resulted in total repur...</td>\n",
       "      <td></td>\n",
       "      <td>KPMG LLP, the Company's independent registered...</td>\n",
       "      <td>Prior to the Transactions, shares of Baker Hug...</td>\n",
       "      <td>We gain insight into expected future utilizati...</td>\n",
       "      <td>The above transactions resulted in total repur...</td>\n",
       "      <td></td>\n",
       "      <td></td>\n",
       "      <td></td>\n",
       "    </tr>\n",
       "  </tbody>\n",
       "</table>\n",
       "</div>"
      ],
      "text/plain": [
       "                                                Text     ascension_number  \\\n",
       "0  ITEM 8. FINANCIAL STATEMENTS AND SUPPLEMENTARY...  0000002969-17-00003   \n",
       "1  ITEM 8. FINANCIAL STATEMENTS AND SUPPLEMENTARY...  0000004127-17-00003   \n",
       "2  ITEM 8. FINANCIAL STATEMENTS AND SUPPLEMENTARY...  0000004281-18-00004   \n",
       "\n",
       "                                              Amount  \\\n",
       "0  These costs amounted to $501million, $352 mill...   \n",
       "1  These costs amounted to $501million, $352 mill...   \n",
       "2  These costs amounted to $501million, $352 mill...   \n",
       "\n",
       "                                       Authorization  \\\n",
       "0  The $3 billion repurchase authorization is the...   \n",
       "1  The $3 billion repurchase authorization is the...   \n",
       "2  The $3 billion repurchase authorization is the...   \n",
       "\n",
       "                                          Repurchase Spent  \\\n",
       "0  The above transactions resulted in total repur...         \n",
       "1  The above transactions resulted in total repur...         \n",
       "2  The above transactions resulted in total repur...         \n",
       "\n",
       "                                               Count  \\\n",
       "0  KPMG LLP, the Company's independent registered...   \n",
       "1  KPMG LLP, the Company's independent registered...   \n",
       "2  KPMG LLP, the Company's independent registered...   \n",
       "\n",
       "                                               Share  \\\n",
       "0  Prior to the Transactions, shares of Baker Hug...   \n",
       "1  Prior to the Transactions, shares of Baker Hug...   \n",
       "2  Prior to the Transactions, shares of Baker Hug...   \n",
       "\n",
       "                                         Utilization  \\\n",
       "0  We gain insight into expected future utilizati...   \n",
       "1  We gain insight into expected future utilizati...   \n",
       "2  We gain insight into expected future utilizati...   \n",
       "\n",
       "                                          repurchase Repurchases Intention  \\\n",
       "0  The above transactions resulted in total repur...                         \n",
       "1  The above transactions resulted in total repur...                         \n",
       "2  The above transactions resulted in total repur...                         \n",
       "\n",
       "  Unknown  \n",
       "0          \n",
       "1          \n",
       "2          "
      ]
     },
     "execution_count": 200,
     "metadata": {},
     "output_type": "execute_result"
    }
   ],
   "source": [
    "df_training"
   ]
  },
  {
   "cell_type": "code",
   "execution_count": 13,
   "metadata": {
    "scrolled": false
   },
   "outputs": [],
   "source": [
    "'''#res = re.search(tokens, df_training['Text'].iloc[0], flags=re.DOTALL)\n",
    "for text in tokens:\n",
    "    #n = 0\n",
    "    print(text)\n",
    "    #pattern = r\"(\"+text+\".*\\n((.*\\n){1,2}))\"\n",
    "    print(re.findall(r\"(\"+text+\".*\\n((.*\\n){1})\\.?\\s?(.*?[\\$].*?\\.\\s))\",df_training['Text'].iloc[0],flags=re.IGNORECASE|re.MULTILINE))\n",
    "    #n = n + 1\n",
    "    \n",
    "    #try:       \n",
    "        #print(res.group())       \n",
    "        #break \n",
    "    #except ValueError:\n",
    "            #print('none')''';"
   ]
  },
  {
   "cell_type": "markdown",
   "metadata": {},
   "source": [
    "#### Create soup with HTML validation files "
   ]
  },
  {
   "cell_type": "code",
   "execution_count": 14,
   "metadata": {
    "scrolled": false
   },
   "outputs": [],
   "source": [
    "directory = 'Data/nc_validation_filings'\n",
    "for filename in os.listdir(directory):\n",
    "    filename = str(filename)\n",
    "    request_validation_filings = urllib.request.Request('file:///C:/Users/kenne/GIT/data-question-8-leopards/Data/nc_validation_filings/'+filename)\n",
    "    result_validation_filings = urllib.request.urlopen(request_validation_filings)\n",
    "    resulttext_validation_filings = result_validation_filings.read()\n",
    "    #print(filename)"
   ]
  },
  {
   "cell_type": "code",
   "execution_count": 15,
   "metadata": {
    "scrolled": false
   },
   "outputs": [],
   "source": [
    "soup_validation_filings = BS(resulttext_validation_filings, 'html.parser')\n",
    "soup_validation_filings.prettify;\n",
    "soup_validation_filings_text = soup_validation_filings.get_text()"
   ]
  },
  {
   "cell_type": "code",
   "execution_count": 16,
   "metadata": {
    "scrolled": false
   },
   "outputs": [],
   "source": [
    "soup_validation_filings_text;"
   ]
  },
  {
   "cell_type": "code",
   "execution_count": 17,
   "metadata": {
    "scrolled": false
   },
   "outputs": [],
   "source": [
    "res = re.search('ITEM 8.*PART IV', soup_validation_filings_text, flags=re.DOTALL)\n",
    "#print (res.group())"
   ]
  },
  {
   "cell_type": "markdown",
   "metadata": {},
   "source": [
    "#### Pull sample of HTML validation files into data frame"
   ]
  },
  {
   "cell_type": "code",
   "execution_count": 18,
   "metadata": {
    "scrolled": false
   },
   "outputs": [],
   "source": [
    "d_validation = []\n",
    "directory = 'Data/nc_validation_filings'\n",
    "for filename in os.listdir(directory)[:3]:\n",
    "    filename = str(filename)\n",
    "    ascension_number = filename[0:19]\n",
    "    request_validation_filings = urllib.request.Request('file:///C:/Users/kenne/GIT/data-question-8-leopards/Data/nc_training_filings/'+filename)\n",
    "    result_validation_filings = urllib.request.urlopen(request_training_filings)\n",
    "    resulttext_validation_filings = result_training_filings.read()\n",
    "    res = re.search('ITEM 8.*PART IV', soup_validation_filings_text, flags=re.DOTALL)\n",
    "    d_validation.append({'Text': res.group(),'ascension_number': ascension_number})\n"
   ]
  },
  {
   "cell_type": "code",
   "execution_count": 19,
   "metadata": {
    "scrolled": false
   },
   "outputs": [
    {
     "data": {
      "text/html": [
       "<div>\n",
       "<style scoped>\n",
       "    .dataframe tbody tr th:only-of-type {\n",
       "        vertical-align: middle;\n",
       "    }\n",
       "\n",
       "    .dataframe tbody tr th {\n",
       "        vertical-align: top;\n",
       "    }\n",
       "\n",
       "    .dataframe thead th {\n",
       "        text-align: right;\n",
       "    }\n",
       "</style>\n",
       "<table border=\"1\" class=\"dataframe\">\n",
       "  <thead>\n",
       "    <tr style=\"text-align: right;\">\n",
       "      <th></th>\n",
       "      <th>Text</th>\n",
       "      <th>ascension_number</th>\n",
       "    </tr>\n",
       "  </thead>\n",
       "  <tbody>\n",
       "    <tr>\n",
       "      <th>0</th>\n",
       "      <td>ITEM 8. FINANCIAL STATEMENTS AND SUPPLEMENTARY...</td>\n",
       "      <td>0000007332-18-00001</td>\n",
       "    </tr>\n",
       "    <tr>\n",
       "      <th>1</th>\n",
       "      <td>ITEM 8. FINANCIAL STATEMENTS AND SUPPLEMENTARY...</td>\n",
       "      <td>0000020520-18-00000</td>\n",
       "    </tr>\n",
       "    <tr>\n",
       "      <th>2</th>\n",
       "      <td>ITEM 8. FINANCIAL STATEMENTS AND SUPPLEMENTARY...</td>\n",
       "      <td>0000028917-18-00015</td>\n",
       "    </tr>\n",
       "  </tbody>\n",
       "</table>\n",
       "</div>"
      ],
      "text/plain": [
       "                                                Text     ascension_number\n",
       "0  ITEM 8. FINANCIAL STATEMENTS AND SUPPLEMENTARY...  0000007332-18-00001\n",
       "1  ITEM 8. FINANCIAL STATEMENTS AND SUPPLEMENTARY...  0000020520-18-00000\n",
       "2  ITEM 8. FINANCIAL STATEMENTS AND SUPPLEMENTARY...  0000028917-18-00015"
      ]
     },
     "execution_count": 19,
     "metadata": {},
     "output_type": "execute_result"
    }
   ],
   "source": [
    "d_validation = pd.DataFrame(d_validation)\n",
    "d_validation['Text'].astype(str);\n",
    "d_validation['ascension_number'].astype(str);\n",
    "d_validation "
   ]
  },
  {
   "cell_type": "markdown",
   "metadata": {},
   "source": [
    "#### Export training data results to Excel File "
   ]
  },
  {
   "cell_type": "code",
   "execution_count": 20,
   "metadata": {
    "scrolled": false
   },
   "outputs": [],
   "source": [
    "writer = pd.ExcelWriter('test.xlsx', engine='xlsxwriter')\n",
    "df_training.to_excel(writer, sheet_name='Sheet1')\n",
    "writer.save()"
   ]
  },
  {
   "cell_type": "code",
   "execution_count": null,
   "metadata": {},
   "outputs": [],
   "source": []
  }
 ],
 "metadata": {
  "kernelspec": {
   "display_name": "Python 3",
   "language": "python",
   "name": "python3"
  },
  "language_info": {
   "codemirror_mode": {
    "name": "ipython",
    "version": 3
   },
   "file_extension": ".py",
   "mimetype": "text/x-python",
   "name": "python",
   "nbconvert_exporter": "python",
   "pygments_lexer": "ipython3",
   "version": "3.6.4"
  }
 },
 "nbformat": 4,
 "nbformat_minor": 2
}
